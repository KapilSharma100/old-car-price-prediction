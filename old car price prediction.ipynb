{
 "cells": [
  {
   "cell_type": "code",
   "execution_count": 2,
   "id": "0474873f",
   "metadata": {},
   "outputs": [],
   "source": [
    "import pandas as pd\n",
    "import numpy as np"
   ]
  },
  {
   "cell_type": "code",
   "execution_count": 5,
   "id": "9f2399ba",
   "metadata": {},
   "outputs": [],
   "source": [
    "car=pd.read_csv('https://raw.githubusercontent.com/YBIFoundation/Dataset/main/Car%20Price.csv')"
   ]
  },
  {
   "cell_type": "code",
   "execution_count": 6,
   "id": "ef7ece12",
   "metadata": {},
   "outputs": [
    {
     "data": {
      "text/html": [
       "<div>\n",
       "<style scoped>\n",
       "    .dataframe tbody tr th:only-of-type {\n",
       "        vertical-align: middle;\n",
       "    }\n",
       "\n",
       "    .dataframe tbody tr th {\n",
       "        vertical-align: top;\n",
       "    }\n",
       "\n",
       "    .dataframe thead th {\n",
       "        text-align: right;\n",
       "    }\n",
       "</style>\n",
       "<table border=\"1\" class=\"dataframe\">\n",
       "  <thead>\n",
       "    <tr style=\"text-align: right;\">\n",
       "      <th></th>\n",
       "      <th>Brand</th>\n",
       "      <th>Model</th>\n",
       "      <th>Year</th>\n",
       "      <th>Selling_Price</th>\n",
       "      <th>KM_Driven</th>\n",
       "      <th>Fuel</th>\n",
       "      <th>Seller_Type</th>\n",
       "      <th>Transmission</th>\n",
       "      <th>Owner</th>\n",
       "    </tr>\n",
       "  </thead>\n",
       "  <tbody>\n",
       "    <tr>\n",
       "      <th>0</th>\n",
       "      <td>Maruti</td>\n",
       "      <td>Maruti 800 AC</td>\n",
       "      <td>2007</td>\n",
       "      <td>60000</td>\n",
       "      <td>70000</td>\n",
       "      <td>Petrol</td>\n",
       "      <td>Individual</td>\n",
       "      <td>Manual</td>\n",
       "      <td>First Owner</td>\n",
       "    </tr>\n",
       "    <tr>\n",
       "      <th>1</th>\n",
       "      <td>Maruti</td>\n",
       "      <td>Maruti Wagon R LXI Minor</td>\n",
       "      <td>2007</td>\n",
       "      <td>135000</td>\n",
       "      <td>50000</td>\n",
       "      <td>Petrol</td>\n",
       "      <td>Individual</td>\n",
       "      <td>Manual</td>\n",
       "      <td>First Owner</td>\n",
       "    </tr>\n",
       "    <tr>\n",
       "      <th>2</th>\n",
       "      <td>Hyundai</td>\n",
       "      <td>Hyundai Verna 1.6 SX</td>\n",
       "      <td>2012</td>\n",
       "      <td>600000</td>\n",
       "      <td>100000</td>\n",
       "      <td>Diesel</td>\n",
       "      <td>Individual</td>\n",
       "      <td>Manual</td>\n",
       "      <td>First Owner</td>\n",
       "    </tr>\n",
       "    <tr>\n",
       "      <th>3</th>\n",
       "      <td>Datsun</td>\n",
       "      <td>Datsun RediGO T Option</td>\n",
       "      <td>2017</td>\n",
       "      <td>250000</td>\n",
       "      <td>46000</td>\n",
       "      <td>Petrol</td>\n",
       "      <td>Individual</td>\n",
       "      <td>Manual</td>\n",
       "      <td>First Owner</td>\n",
       "    </tr>\n",
       "    <tr>\n",
       "      <th>4</th>\n",
       "      <td>Honda</td>\n",
       "      <td>Honda Amaze VX i-DTEC</td>\n",
       "      <td>2014</td>\n",
       "      <td>450000</td>\n",
       "      <td>141000</td>\n",
       "      <td>Diesel</td>\n",
       "      <td>Individual</td>\n",
       "      <td>Manual</td>\n",
       "      <td>Second Owner</td>\n",
       "    </tr>\n",
       "  </tbody>\n",
       "</table>\n",
       "</div>"
      ],
      "text/plain": [
       "     Brand                     Model  Year  Selling_Price  KM_Driven    Fuel  \\\n",
       "0   Maruti             Maruti 800 AC  2007          60000      70000  Petrol   \n",
       "1   Maruti  Maruti Wagon R LXI Minor  2007         135000      50000  Petrol   \n",
       "2  Hyundai      Hyundai Verna 1.6 SX  2012         600000     100000  Diesel   \n",
       "3   Datsun    Datsun RediGO T Option  2017         250000      46000  Petrol   \n",
       "4    Honda     Honda Amaze VX i-DTEC  2014         450000     141000  Diesel   \n",
       "\n",
       "  Seller_Type Transmission         Owner  \n",
       "0  Individual       Manual   First Owner  \n",
       "1  Individual       Manual   First Owner  \n",
       "2  Individual       Manual   First Owner  \n",
       "3  Individual       Manual   First Owner  \n",
       "4  Individual       Manual  Second Owner  "
      ]
     },
     "execution_count": 6,
     "metadata": {},
     "output_type": "execute_result"
    }
   ],
   "source": [
    "car.head()"
   ]
  },
  {
   "cell_type": "code",
   "execution_count": 8,
   "id": "5e1a1e46",
   "metadata": {},
   "outputs": [
    {
     "name": "stdout",
     "output_type": "stream",
     "text": [
      "<class 'pandas.core.frame.DataFrame'>\n",
      "RangeIndex: 4340 entries, 0 to 4339\n",
      "Data columns (total 9 columns):\n",
      " #   Column         Non-Null Count  Dtype \n",
      "---  ------         --------------  ----- \n",
      " 0   Brand          4340 non-null   object\n",
      " 1   Model          4340 non-null   object\n",
      " 2   Year           4340 non-null   int64 \n",
      " 3   Selling_Price  4340 non-null   int64 \n",
      " 4   KM_Driven      4340 non-null   int64 \n",
      " 5   Fuel           4340 non-null   object\n",
      " 6   Seller_Type    4340 non-null   object\n",
      " 7   Transmission   4340 non-null   object\n",
      " 8   Owner          4340 non-null   object\n",
      "dtypes: int64(3), object(6)\n",
      "memory usage: 305.3+ KB\n"
     ]
    }
   ],
   "source": [
    "car.info()"
   ]
  },
  {
   "cell_type": "code",
   "execution_count": 9,
   "id": "a021547a",
   "metadata": {},
   "outputs": [
    {
     "data": {
      "text/html": [
       "<div>\n",
       "<style scoped>\n",
       "    .dataframe tbody tr th:only-of-type {\n",
       "        vertical-align: middle;\n",
       "    }\n",
       "\n",
       "    .dataframe tbody tr th {\n",
       "        vertical-align: top;\n",
       "    }\n",
       "\n",
       "    .dataframe thead th {\n",
       "        text-align: right;\n",
       "    }\n",
       "</style>\n",
       "<table border=\"1\" class=\"dataframe\">\n",
       "  <thead>\n",
       "    <tr style=\"text-align: right;\">\n",
       "      <th></th>\n",
       "      <th>Year</th>\n",
       "      <th>Selling_Price</th>\n",
       "      <th>KM_Driven</th>\n",
       "    </tr>\n",
       "  </thead>\n",
       "  <tbody>\n",
       "    <tr>\n",
       "      <th>count</th>\n",
       "      <td>4340.000000</td>\n",
       "      <td>4.340000e+03</td>\n",
       "      <td>4340.000000</td>\n",
       "    </tr>\n",
       "    <tr>\n",
       "      <th>mean</th>\n",
       "      <td>2013.090783</td>\n",
       "      <td>5.041273e+05</td>\n",
       "      <td>66215.777419</td>\n",
       "    </tr>\n",
       "    <tr>\n",
       "      <th>std</th>\n",
       "      <td>4.215344</td>\n",
       "      <td>5.785487e+05</td>\n",
       "      <td>46644.102194</td>\n",
       "    </tr>\n",
       "    <tr>\n",
       "      <th>min</th>\n",
       "      <td>1992.000000</td>\n",
       "      <td>2.000000e+04</td>\n",
       "      <td>1.000000</td>\n",
       "    </tr>\n",
       "    <tr>\n",
       "      <th>25%</th>\n",
       "      <td>2011.000000</td>\n",
       "      <td>2.087498e+05</td>\n",
       "      <td>35000.000000</td>\n",
       "    </tr>\n",
       "    <tr>\n",
       "      <th>50%</th>\n",
       "      <td>2014.000000</td>\n",
       "      <td>3.500000e+05</td>\n",
       "      <td>60000.000000</td>\n",
       "    </tr>\n",
       "    <tr>\n",
       "      <th>75%</th>\n",
       "      <td>2016.000000</td>\n",
       "      <td>6.000000e+05</td>\n",
       "      <td>90000.000000</td>\n",
       "    </tr>\n",
       "    <tr>\n",
       "      <th>max</th>\n",
       "      <td>2020.000000</td>\n",
       "      <td>8.900000e+06</td>\n",
       "      <td>806599.000000</td>\n",
       "    </tr>\n",
       "  </tbody>\n",
       "</table>\n",
       "</div>"
      ],
      "text/plain": [
       "              Year  Selling_Price      KM_Driven\n",
       "count  4340.000000   4.340000e+03    4340.000000\n",
       "mean   2013.090783   5.041273e+05   66215.777419\n",
       "std       4.215344   5.785487e+05   46644.102194\n",
       "min    1992.000000   2.000000e+04       1.000000\n",
       "25%    2011.000000   2.087498e+05   35000.000000\n",
       "50%    2014.000000   3.500000e+05   60000.000000\n",
       "75%    2016.000000   6.000000e+05   90000.000000\n",
       "max    2020.000000   8.900000e+06  806599.000000"
      ]
     },
     "execution_count": 9,
     "metadata": {},
     "output_type": "execute_result"
    }
   ],
   "source": [
    "car.describe()"
   ]
  },
  {
   "cell_type": "code",
   "execution_count": 11,
   "id": "fe829ca1",
   "metadata": {},
   "outputs": [
    {
     "data": {
      "text/plain": [
       "Index(['Brand', 'Model', 'Year', 'Selling_Price', 'KM_Driven', 'Fuel',\n",
       "       'Seller_Type', 'Transmission', 'Owner'],\n",
       "      dtype='object')"
      ]
     },
     "execution_count": 11,
     "metadata": {},
     "output_type": "execute_result"
    }
   ],
   "source": [
    "car.columns"
   ]
  },
  {
   "cell_type": "code",
   "execution_count": 50,
   "id": "21b2efe4",
   "metadata": {},
   "outputs": [],
   "source": []
  },
  {
   "cell_type": "code",
   "execution_count": 17,
   "id": "283e7f39",
   "metadata": {},
   "outputs": [
    {
     "data": {
      "text/plain": [
       "Brand\n",
       "Maruti           1280\n",
       "Hyundai           821\n",
       "Mahindra          365\n",
       "Tata              361\n",
       "Honda             252\n",
       "Ford              238\n",
       "Toyota            206\n",
       "Chevrolet         188\n",
       "Renault           146\n",
       "Volkswagen        107\n",
       "Skoda              68\n",
       "Nissan             64\n",
       "Audi               60\n",
       "BMW                39\n",
       "Fiat               37\n",
       "Datsun             37\n",
       "Mercedes-Benz      35\n",
       "Jaguar              6\n",
       "Mitsubishi          6\n",
       "Land                5\n",
       "Volvo               4\n",
       "Ambassador          4\n",
       "Jeep                3\n",
       "MG                  2\n",
       "OpelCorsa           2\n",
       "Daewoo              1\n",
       "Force               1\n",
       "Isuzu               1\n",
       "Kia                 1\n",
       "Name: count, dtype: int64"
      ]
     },
     "execution_count": 17,
     "metadata": {},
     "output_type": "execute_result"
    }
   ],
   "source": [
    "car['Brand'].value_counts()"
   ]
  },
  {
   "cell_type": "code",
   "execution_count": 18,
   "id": "06526c87",
   "metadata": {},
   "outputs": [
    {
     "data": {
      "text/plain": [
       "29"
      ]
     },
     "execution_count": 18,
     "metadata": {},
     "output_type": "execute_result"
    }
   ],
   "source": [
    "car['Brand'].nunique()"
   ]
  },
  {
   "cell_type": "code",
   "execution_count": 22,
   "id": "9b9654b9",
   "metadata": {},
   "outputs": [
    {
     "data": {
      "text/plain": [
       "0        True\n",
       "1        True\n",
       "2       False\n",
       "3       False\n",
       "4       False\n",
       "        ...  \n",
       "4335    False\n",
       "4336    False\n",
       "4337     True\n",
       "4338    False\n",
       "4339    False\n",
       "Name: Brand, Length: 4340, dtype: bool"
      ]
     },
     "execution_count": 22,
     "metadata": {},
     "output_type": "execute_result"
    }
   ],
   "source": [
    "car['Brand']=='Maruti'"
   ]
  },
  {
   "cell_type": "code",
   "execution_count": 112,
   "id": "df07b908",
   "metadata": {},
   "outputs": [
    {
     "data": {
      "text/plain": [
       "0       False\n",
       "1       False\n",
       "2       False\n",
       "3       False\n",
       "4       False\n",
       "        ...  \n",
       "4335    False\n",
       "4336    False\n",
       "4337    False\n",
       "4338    False\n",
       "4339    False\n",
       "Name: Brand, Length: 4340, dtype: bool"
      ]
     },
     "execution_count": 112,
     "metadata": {},
     "output_type": "execute_result"
    }
   ],
   "source": [
    "car['Brand']=='Tata'"
   ]
  },
  {
   "cell_type": "code",
   "execution_count": 124,
   "id": "4b351fb0",
   "metadata": {},
   "outputs": [],
   "source": [
    "df=car.loc[(car['Brand']=='Maruti')]"
   ]
  },
  {
   "cell_type": "code",
   "execution_count": 125,
   "id": "fe6fe172",
   "metadata": {},
   "outputs": [
    {
     "data": {
      "text/plain": [
       "Brand\n",
       "Maruti    1280\n",
       "Name: count, dtype: int64"
      ]
     },
     "execution_count": 125,
     "metadata": {},
     "output_type": "execute_result"
    }
   ],
   "source": [
    "df['Brand'].value_counts()"
   ]
  },
  {
   "cell_type": "code",
   "execution_count": 100,
   "id": "86875adb",
   "metadata": {},
   "outputs": [
    {
     "data": {
      "text/plain": [
       "Fuel\n",
       "Petrol    1429\n",
       "Diesel     977\n",
       "CNG         38\n",
       "LPG         22\n",
       "Name: count, dtype: int64"
      ]
     },
     "execution_count": 100,
     "metadata": {},
     "output_type": "execute_result"
    }
   ],
   "source": [
    "df['Fuel'].value_counts()"
   ]
  },
  {
   "cell_type": "code",
   "execution_count": 44,
   "id": "58f23c86",
   "metadata": {},
   "outputs": [
    {
     "data": {
      "text/plain": [
       "Transmission\n",
       "Manual       1972\n",
       "Automatic     129\n",
       "Name: count, dtype: int64"
      ]
     },
     "execution_count": 44,
     "metadata": {},
     "output_type": "execute_result"
    }
   ],
   "source": [
    "df['Transmission'].value_counts()"
   ]
  },
  {
   "cell_type": "code",
   "execution_count": 48,
   "id": "0dfc015a",
   "metadata": {},
   "outputs": [
    {
     "data": {
      "text/plain": [
       "Seller_Type\n",
       "Individual          1624\n",
       "Dealer               401\n",
       "Trustmark Dealer      76\n",
       "Name: count, dtype: int64"
      ]
     },
     "execution_count": 48,
     "metadata": {},
     "output_type": "execute_result"
    }
   ],
   "source": [
    "df['Seller_Type'].value_counts()"
   ]
  },
  {
   "cell_type": "code",
   "execution_count": 49,
   "id": "db6acd22",
   "metadata": {},
   "outputs": [
    {
     "data": {
      "text/plain": [
       "Owner\n",
       "First Owner             1370\n",
       "Second Owner             538\n",
       "Third Owner              143\n",
       "Fourth & Above Owner      50\n",
       "Name: count, dtype: int64"
      ]
     },
     "execution_count": 49,
     "metadata": {},
     "output_type": "execute_result"
    }
   ],
   "source": [
    "df['Owner'].value_counts()"
   ]
  },
  {
   "cell_type": "code",
   "execution_count": 126,
   "id": "ce199681",
   "metadata": {},
   "outputs": [],
   "source": [
    "y=df['Selling_Price']\n",
    "x=df[['Brand', 'Year', 'KM_Driven', 'Fuel',\n",
    "       'Seller_Type', 'Transmission', 'Owner']]"
   ]
  },
  {
   "cell_type": "code",
   "execution_count": 127,
   "id": "1ea354d5",
   "metadata": {},
   "outputs": [],
   "source": [
    "x=pd.get_dummies(x,dtype='int')"
   ]
  },
  {
   "cell_type": "code",
   "execution_count": 128,
   "id": "cdc3c080",
   "metadata": {},
   "outputs": [],
   "source": [
    "from sklearn.model_selection import train_test_split"
   ]
  },
  {
   "cell_type": "code",
   "execution_count": 129,
   "id": "c198940c",
   "metadata": {},
   "outputs": [],
   "source": [
    "X_train,X_test,y_train,y_test=train_test_split(x,y,random_state=2529)"
   ]
  },
  {
   "cell_type": "code",
   "execution_count": 130,
   "id": "4d10ec92",
   "metadata": {},
   "outputs": [],
   "source": [
    "from sklearn.ensemble import RandomForestRegressor\n",
    "model=RandomForestRegressor()"
   ]
  },
  {
   "cell_type": "code",
   "execution_count": 131,
   "id": "c09ad902",
   "metadata": {},
   "outputs": [
    {
     "data": {
      "text/html": [
       "<style>#sk-container-id-7 {color: black;}#sk-container-id-7 pre{padding: 0;}#sk-container-id-7 div.sk-toggleable {background-color: white;}#sk-container-id-7 label.sk-toggleable__label {cursor: pointer;display: block;width: 100%;margin-bottom: 0;padding: 0.3em;box-sizing: border-box;text-align: center;}#sk-container-id-7 label.sk-toggleable__label-arrow:before {content: \"▸\";float: left;margin-right: 0.25em;color: #696969;}#sk-container-id-7 label.sk-toggleable__label-arrow:hover:before {color: black;}#sk-container-id-7 div.sk-estimator:hover label.sk-toggleable__label-arrow:before {color: black;}#sk-container-id-7 div.sk-toggleable__content {max-height: 0;max-width: 0;overflow: hidden;text-align: left;background-color: #f0f8ff;}#sk-container-id-7 div.sk-toggleable__content pre {margin: 0.2em;color: black;border-radius: 0.25em;background-color: #f0f8ff;}#sk-container-id-7 input.sk-toggleable__control:checked~div.sk-toggleable__content {max-height: 200px;max-width: 100%;overflow: auto;}#sk-container-id-7 input.sk-toggleable__control:checked~label.sk-toggleable__label-arrow:before {content: \"▾\";}#sk-container-id-7 div.sk-estimator input.sk-toggleable__control:checked~label.sk-toggleable__label {background-color: #d4ebff;}#sk-container-id-7 div.sk-label input.sk-toggleable__control:checked~label.sk-toggleable__label {background-color: #d4ebff;}#sk-container-id-7 input.sk-hidden--visually {border: 0;clip: rect(1px 1px 1px 1px);clip: rect(1px, 1px, 1px, 1px);height: 1px;margin: -1px;overflow: hidden;padding: 0;position: absolute;width: 1px;}#sk-container-id-7 div.sk-estimator {font-family: monospace;background-color: #f0f8ff;border: 1px dotted black;border-radius: 0.25em;box-sizing: border-box;margin-bottom: 0.5em;}#sk-container-id-7 div.sk-estimator:hover {background-color: #d4ebff;}#sk-container-id-7 div.sk-parallel-item::after {content: \"\";width: 100%;border-bottom: 1px solid gray;flex-grow: 1;}#sk-container-id-7 div.sk-label:hover label.sk-toggleable__label {background-color: #d4ebff;}#sk-container-id-7 div.sk-serial::before {content: \"\";position: absolute;border-left: 1px solid gray;box-sizing: border-box;top: 0;bottom: 0;left: 50%;z-index: 0;}#sk-container-id-7 div.sk-serial {display: flex;flex-direction: column;align-items: center;background-color: white;padding-right: 0.2em;padding-left: 0.2em;position: relative;}#sk-container-id-7 div.sk-item {position: relative;z-index: 1;}#sk-container-id-7 div.sk-parallel {display: flex;align-items: stretch;justify-content: center;background-color: white;position: relative;}#sk-container-id-7 div.sk-item::before, #sk-container-id-7 div.sk-parallel-item::before {content: \"\";position: absolute;border-left: 1px solid gray;box-sizing: border-box;top: 0;bottom: 0;left: 50%;z-index: -1;}#sk-container-id-7 div.sk-parallel-item {display: flex;flex-direction: column;z-index: 1;position: relative;background-color: white;}#sk-container-id-7 div.sk-parallel-item:first-child::after {align-self: flex-end;width: 50%;}#sk-container-id-7 div.sk-parallel-item:last-child::after {align-self: flex-start;width: 50%;}#sk-container-id-7 div.sk-parallel-item:only-child::after {width: 0;}#sk-container-id-7 div.sk-dashed-wrapped {border: 1px dashed gray;margin: 0 0.4em 0.5em 0.4em;box-sizing: border-box;padding-bottom: 0.4em;background-color: white;}#sk-container-id-7 div.sk-label label {font-family: monospace;font-weight: bold;display: inline-block;line-height: 1.2em;}#sk-container-id-7 div.sk-label-container {text-align: center;}#sk-container-id-7 div.sk-container {/* jupyter's `normalize.less` sets `[hidden] { display: none; }` but bootstrap.min.css set `[hidden] { display: none !important; }` so we also need the `!important` here to be able to override the default hidden behavior on the sphinx rendered scikit-learn.org. See: https://github.com/scikit-learn/scikit-learn/issues/21755 */display: inline-block !important;position: relative;}#sk-container-id-7 div.sk-text-repr-fallback {display: none;}</style><div id=\"sk-container-id-7\" class=\"sk-top-container\"><div class=\"sk-text-repr-fallback\"><pre>RandomForestRegressor()</pre><b>In a Jupyter environment, please rerun this cell to show the HTML representation or trust the notebook. <br />On GitHub, the HTML representation is unable to render, please try loading this page with nbviewer.org.</b></div><div class=\"sk-container\" hidden><div class=\"sk-item\"><div class=\"sk-estimator sk-toggleable\"><input class=\"sk-toggleable__control sk-hidden--visually\" id=\"sk-estimator-id-7\" type=\"checkbox\" checked><label for=\"sk-estimator-id-7\" class=\"sk-toggleable__label sk-toggleable__label-arrow\">RandomForestRegressor</label><div class=\"sk-toggleable__content\"><pre>RandomForestRegressor()</pre></div></div></div></div></div>"
      ],
      "text/plain": [
       "RandomForestRegressor()"
      ]
     },
     "execution_count": 131,
     "metadata": {},
     "output_type": "execute_result"
    }
   ],
   "source": [
    "model.fit(X_train,y_train)"
   ]
  },
  {
   "cell_type": "code",
   "execution_count": 86,
   "id": "3820e6be",
   "metadata": {},
   "outputs": [
    {
     "ename": "AttributeError",
     "evalue": "'RandomForestRegressor' object has no attribute 'intercept_'",
     "output_type": "error",
     "traceback": [
      "\u001b[1;31m---------------------------------------------------------------------------\u001b[0m",
      "\u001b[1;31mAttributeError\u001b[0m                            Traceback (most recent call last)",
      "Cell \u001b[1;32mIn[86], line 1\u001b[0m\n\u001b[1;32m----> 1\u001b[0m model\u001b[38;5;241m.\u001b[39mintercept_\n",
      "\u001b[1;31mAttributeError\u001b[0m: 'RandomForestRegressor' object has no attribute 'intercept_'"
     ]
    }
   ],
   "source": [
    "model.intercept_"
   ]
  },
  {
   "cell_type": "code",
   "execution_count": 87,
   "id": "670d8bf1",
   "metadata": {},
   "outputs": [
    {
     "ename": "AttributeError",
     "evalue": "'RandomForestRegressor' object has no attribute 'coef_'",
     "output_type": "error",
     "traceback": [
      "\u001b[1;31m---------------------------------------------------------------------------\u001b[0m",
      "\u001b[1;31mAttributeError\u001b[0m                            Traceback (most recent call last)",
      "Cell \u001b[1;32mIn[87], line 1\u001b[0m\n\u001b[1;32m----> 1\u001b[0m model\u001b[38;5;241m.\u001b[39mcoef_\n",
      "\u001b[1;31mAttributeError\u001b[0m: 'RandomForestRegressor' object has no attribute 'coef_'"
     ]
    }
   ],
   "source": [
    "model.coef_"
   ]
  },
  {
   "cell_type": "code",
   "execution_count": 132,
   "id": "98079ffd",
   "metadata": {},
   "outputs": [],
   "source": [
    "y_pred=model.predict(X_test)"
   ]
  },
  {
   "cell_type": "code",
   "execution_count": 133,
   "id": "69856dd8",
   "metadata": {},
   "outputs": [
    {
     "data": {
      "text/plain": [
       "0.32500730058313254"
      ]
     },
     "execution_count": 133,
     "metadata": {},
     "output_type": "execute_result"
    }
   ],
   "source": [
    "from sklearn.metrics import mean_absolute_percentage_error,r2_score\n",
    "mean_absolute_percentage_error(y_test,y_pred)"
   ]
  },
  {
   "cell_type": "code",
   "execution_count": 135,
   "id": "d85d21ef",
   "metadata": {},
   "outputs": [
    {
     "data": {
      "text/plain": [
       "0.7538262565649105"
      ]
     },
     "execution_count": 135,
     "metadata": {},
     "output_type": "execute_result"
    }
   ],
   "source": [
    "r2_score(y_test,y_pred)"
   ]
  },
  {
   "cell_type": "code",
   "execution_count": 140,
   "id": "83005dd2",
   "metadata": {},
   "outputs": [
    {
     "name": "stdout",
     "output_type": "stream",
     "text": [
      "      Year  KM_Driven  Brand_Maruti  Fuel_CNG  Fuel_Diesel  Fuel_LPG  \\\n",
      "2642  2008     100000             1         0            0         0   \n",
      "\n",
      "      Fuel_Petrol  Seller_Type_Dealer  Seller_Type_Individual  \\\n",
      "2642            1                   0                       1   \n",
      "\n",
      "      Seller_Type_Trustmark Dealer  Transmission_Automatic  \\\n",
      "2642                             0                       0   \n",
      "\n",
      "      Transmission_Manual  Owner_First Owner  Owner_Fourth & Above Owner  \\\n",
      "2642                    1                  0                           0   \n",
      "\n",
      "      Owner_Second Owner  Owner_Third Owner  \n",
      "2642                   1                  0  \n"
     ]
    },
    {
     "data": {
      "text/plain": [
       "array([116262.40079365])"
      ]
     },
     "execution_count": 140,
     "metadata": {},
     "output_type": "execute_result"
    }
   ],
   "source": [
    "a=x.sample()\n",
    "print(a)\n",
    "model.predict(a)\n"
   ]
  },
  {
   "cell_type": "code",
   "execution_count": 141,
   "id": "4b5b37c9",
   "metadata": {},
   "outputs": [
    {
     "data": {
      "text/html": [
       "<div>\n",
       "<style scoped>\n",
       "    .dataframe tbody tr th:only-of-type {\n",
       "        vertical-align: middle;\n",
       "    }\n",
       "\n",
       "    .dataframe tbody tr th {\n",
       "        vertical-align: top;\n",
       "    }\n",
       "\n",
       "    .dataframe thead th {\n",
       "        text-align: right;\n",
       "    }\n",
       "</style>\n",
       "<table border=\"1\" class=\"dataframe\">\n",
       "  <thead>\n",
       "    <tr style=\"text-align: right;\">\n",
       "      <th></th>\n",
       "      <th>network</th>\n",
       "      <th>1</th>\n",
       "      <th>1.1</th>\n",
       "      <th>2</th>\n",
       "      <th>2.1</th>\n",
       "      <th>3</th>\n",
       "      <th>3.1</th>\n",
       "      <th>4</th>\n",
       "      <th>4.1</th>\n",
       "      <th>5</th>\n",
       "      <th>...</th>\n",
       "      <th>16.5</th>\n",
       "      <th>16.6</th>\n",
       "      <th>16.7</th>\n",
       "      <th>17</th>\n",
       "      <th>17.1</th>\n",
       "      <th>17.2</th>\n",
       "      <th>17.3</th>\n",
       "      <th>17.4</th>\n",
       "      <th>17.5</th>\n",
       "      <th>17.6</th>\n",
       "    </tr>\n",
       "  </thead>\n",
       "  <tbody>\n",
       "    <tr>\n",
       "      <th>0</th>\n",
       "      <td>node</td>\n",
       "      <td>1</td>\n",
       "      <td>1</td>\n",
       "      <td>1</td>\n",
       "      <td>1</td>\n",
       "      <td>1</td>\n",
       "      <td>1</td>\n",
       "      <td>1</td>\n",
       "      <td>1</td>\n",
       "      <td>1</td>\n",
       "      <td>...</td>\n",
       "      <td>3</td>\n",
       "      <td>4</td>\n",
       "      <td>4</td>\n",
       "      <td>1</td>\n",
       "      <td>1</td>\n",
       "      <td>2</td>\n",
       "      <td>2</td>\n",
       "      <td>3</td>\n",
       "      <td>3</td>\n",
       "      <td>4</td>\n",
       "    </tr>\n",
       "    <tr>\n",
       "      <th>1</th>\n",
       "      <td>hemi</td>\n",
       "      <td>lh</td>\n",
       "      <td>rh</td>\n",
       "      <td>lh</td>\n",
       "      <td>rh</td>\n",
       "      <td>lh</td>\n",
       "      <td>rh</td>\n",
       "      <td>lh</td>\n",
       "      <td>rh</td>\n",
       "      <td>lh</td>\n",
       "      <td>...</td>\n",
       "      <td>rh</td>\n",
       "      <td>lh</td>\n",
       "      <td>rh</td>\n",
       "      <td>lh</td>\n",
       "      <td>rh</td>\n",
       "      <td>lh</td>\n",
       "      <td>rh</td>\n",
       "      <td>lh</td>\n",
       "      <td>rh</td>\n",
       "      <td>lh</td>\n",
       "    </tr>\n",
       "    <tr>\n",
       "      <th>2</th>\n",
       "      <td>NaN</td>\n",
       "      <td>NaN</td>\n",
       "      <td>NaN</td>\n",
       "      <td>NaN</td>\n",
       "      <td>NaN</td>\n",
       "      <td>NaN</td>\n",
       "      <td>NaN</td>\n",
       "      <td>NaN</td>\n",
       "      <td>NaN</td>\n",
       "      <td>NaN</td>\n",
       "      <td>...</td>\n",
       "      <td>NaN</td>\n",
       "      <td>NaN</td>\n",
       "      <td>NaN</td>\n",
       "      <td>NaN</td>\n",
       "      <td>NaN</td>\n",
       "      <td>NaN</td>\n",
       "      <td>NaN</td>\n",
       "      <td>NaN</td>\n",
       "      <td>NaN</td>\n",
       "      <td>NaN</td>\n",
       "    </tr>\n",
       "    <tr>\n",
       "      <th>3</th>\n",
       "      <td>0</td>\n",
       "      <td>56.05574417114258</td>\n",
       "      <td>92.03103637695312</td>\n",
       "      <td>3.391575574874878</td>\n",
       "      <td>38.65968322753906</td>\n",
       "      <td>26.203819274902344</td>\n",
       "      <td>-49.71556854248047</td>\n",
       "      <td>47.4610366821289</td>\n",
       "      <td>26.746612548828125</td>\n",
       "      <td>-35.898860931396484</td>\n",
       "      <td>...</td>\n",
       "      <td>0.6079040169715881</td>\n",
       "      <td>-70.27054595947266</td>\n",
       "      <td>77.36577606201172</td>\n",
       "      <td>-21.73455047607422</td>\n",
       "      <td>1.0282527208328247</td>\n",
       "      <td>7.7917842864990225</td>\n",
       "      <td>68.90372467041016</td>\n",
       "      <td>-10.520872116088867</td>\n",
       "      <td>120.49046325683594</td>\n",
       "      <td>-39.686431884765625</td>\n",
       "    </tr>\n",
       "    <tr>\n",
       "      <th>4</th>\n",
       "      <td>1</td>\n",
       "      <td>55.5472526550293</td>\n",
       "      <td>43.6900749206543</td>\n",
       "      <td>-65.49598693847656</td>\n",
       "      <td>-13.974522590637207</td>\n",
       "      <td>-28.27496337890625</td>\n",
       "      <td>-39.05012893676758</td>\n",
       "      <td>-1.2106596231460571</td>\n",
       "      <td>-19.012897491455078</td>\n",
       "      <td>19.568010330200195</td>\n",
       "      <td>...</td>\n",
       "      <td>57.49507141113281</td>\n",
       "      <td>-76.39321899414062</td>\n",
       "      <td>127.26136016845705</td>\n",
       "      <td>-13.035799026489258</td>\n",
       "      <td>46.3818244934082</td>\n",
       "      <td>-15.752449989318848</td>\n",
       "      <td>31.00033187866211</td>\n",
       "      <td>-39.607521057128906</td>\n",
       "      <td>24.76401138305664</td>\n",
       "      <td>-36.7710075378418</td>\n",
       "    </tr>\n",
       "    <tr>\n",
       "      <th>...</th>\n",
       "      <td>...</td>\n",
       "      <td>...</td>\n",
       "      <td>...</td>\n",
       "      <td>...</td>\n",
       "      <td>...</td>\n",
       "      <td>...</td>\n",
       "      <td>...</td>\n",
       "      <td>...</td>\n",
       "      <td>...</td>\n",
       "      <td>...</td>\n",
       "      <td>...</td>\n",
       "      <td>...</td>\n",
       "      <td>...</td>\n",
       "      <td>...</td>\n",
       "      <td>...</td>\n",
       "      <td>...</td>\n",
       "      <td>...</td>\n",
       "      <td>...</td>\n",
       "      <td>...</td>\n",
       "      <td>...</td>\n",
       "      <td>...</td>\n",
       "    </tr>\n",
       "    <tr>\n",
       "      <th>918</th>\n",
       "      <td>915</td>\n",
       "      <td>-7.4295125007629395</td>\n",
       "      <td>-4.81321907043457</td>\n",
       "      <td>-3.670536518096924</td>\n",
       "      <td>1.4422610998153689</td>\n",
       "      <td>-19.6804313659668</td>\n",
       "      <td>-29.109355926513672</td>\n",
       "      <td>-3.3765623569488525</td>\n",
       "      <td>-8.764892578125</td>\n",
       "      <td>0.017911728471517563</td>\n",
       "      <td>...</td>\n",
       "      <td>58.28579330444336</td>\n",
       "      <td>68.55741119384766</td>\n",
       "      <td>22.83304786682129</td>\n",
       "      <td>76.17948913574219</td>\n",
       "      <td>51.9346694946289</td>\n",
       "      <td>-6.614512920379639</td>\n",
       "      <td>-6.690762042999268</td>\n",
       "      <td>22.893030166625977</td>\n",
       "      <td>48.27437973022461</td>\n",
       "      <td>76.22845458984375</td>\n",
       "    </tr>\n",
       "    <tr>\n",
       "      <th>919</th>\n",
       "      <td>916</td>\n",
       "      <td>-33.55413818359375</td>\n",
       "      <td>-38.60562133789063</td>\n",
       "      <td>-25.66480255126953</td>\n",
       "      <td>-30.252351760864254</td>\n",
       "      <td>5.5627851486206055</td>\n",
       "      <td>20.182186126708984</td>\n",
       "      <td>17.91124725341797</td>\n",
       "      <td>24.65358161926269</td>\n",
       "      <td>-32.93561172485352</td>\n",
       "      <td>...</td>\n",
       "      <td>59.86481857299805</td>\n",
       "      <td>23.00457763671875</td>\n",
       "      <td>7.6574625968933105</td>\n",
       "      <td>50.96239852905274</td>\n",
       "      <td>13.696922302246096</td>\n",
       "      <td>63.50361633300781</td>\n",
       "      <td>57.40117645263672</td>\n",
       "      <td>24.97454833984375</td>\n",
       "      <td>51.97215270996094</td>\n",
       "      <td>64.53878784179689</td>\n",
       "    </tr>\n",
       "    <tr>\n",
       "      <th>920</th>\n",
       "      <td>917</td>\n",
       "      <td>-78.53956604003906</td>\n",
       "      <td>-74.19718933105469</td>\n",
       "      <td>-54.04159545898438</td>\n",
       "      <td>-39.97029113769531</td>\n",
       "      <td>-14.277058601379395</td>\n",
       "      <td>-30.606460571289066</td>\n",
       "      <td>60.62852096557617</td>\n",
       "      <td>62.02702331542969</td>\n",
       "      <td>-32.80055618286133</td>\n",
       "      <td>...</td>\n",
       "      <td>68.76786804199219</td>\n",
       "      <td>49.66401672363281</td>\n",
       "      <td>64.55149841308594</td>\n",
       "      <td>43.80074691772461</td>\n",
       "      <td>8.144479751586914</td>\n",
       "      <td>47.28145980834961</td>\n",
       "      <td>70.49964904785156</td>\n",
       "      <td>66.99440002441406</td>\n",
       "      <td>81.53924560546875</td>\n",
       "      <td>64.96977233886719</td>\n",
       "    </tr>\n",
       "    <tr>\n",
       "      <th>921</th>\n",
       "      <td>918</td>\n",
       "      <td>-103.23582458496094</td>\n",
       "      <td>-98.7442855834961</td>\n",
       "      <td>-40.10954284667969</td>\n",
       "      <td>-44.90773391723633</td>\n",
       "      <td>12.109148025512695</td>\n",
       "      <td>1.6213401556015017</td>\n",
       "      <td>33.765560150146484</td>\n",
       "      <td>55.35607147216797</td>\n",
       "      <td>-14.330512046813965</td>\n",
       "      <td>...</td>\n",
       "      <td>103.1552505493164</td>\n",
       "      <td>106.45484924316406</td>\n",
       "      <td>9.04682731628418</td>\n",
       "      <td>46.67441940307617</td>\n",
       "      <td>40.95479583740234</td>\n",
       "      <td>0.8771800398826599</td>\n",
       "      <td>37.57715225219727</td>\n",
       "      <td>20.517745971679688</td>\n",
       "      <td>3.124434232711792</td>\n",
       "      <td>56.71838760375977</td>\n",
       "    </tr>\n",
       "    <tr>\n",
       "      <th>922</th>\n",
       "      <td>919</td>\n",
       "      <td>-36.28886795043945</td>\n",
       "      <td>-10.762069702148438</td>\n",
       "      <td>-30.35626220703125</td>\n",
       "      <td>-23.31950378417969</td>\n",
       "      <td>14.252187728881836</td>\n",
       "      <td>-27.55986022949219</td>\n",
       "      <td>17.279512405395508</td>\n",
       "      <td>-19.060152053833008</td>\n",
       "      <td>26.55877685546875</td>\n",
       "      <td>...</td>\n",
       "      <td>102.0863037109375</td>\n",
       "      <td>80.05113983154297</td>\n",
       "      <td>-2.6426103115081787</td>\n",
       "      <td>-12.229619979858398</td>\n",
       "      <td>-6.596726417541504</td>\n",
       "      <td>17.665163040161133</td>\n",
       "      <td>16.153173446655273</td>\n",
       "      <td>8.300398826599121</td>\n",
       "      <td>33.687530517578125</td>\n",
       "      <td>17.960655212402344</td>\n",
       "    </tr>\n",
       "  </tbody>\n",
       "</table>\n",
       "<p>923 rows × 63 columns</p>\n",
       "</div>"
      ],
      "text/plain": [
       "    network                    1                  1.1                   2  \\\n",
       "0      node                    1                    1                   1   \n",
       "1      hemi                   lh                   rh                  lh   \n",
       "2       NaN                  NaN                  NaN                 NaN   \n",
       "3         0    56.05574417114258    92.03103637695312   3.391575574874878   \n",
       "4         1     55.5472526550293     43.6900749206543  -65.49598693847656   \n",
       "..      ...                  ...                  ...                 ...   \n",
       "918     915  -7.4295125007629395    -4.81321907043457  -3.670536518096924   \n",
       "919     916   -33.55413818359375   -38.60562133789063  -25.66480255126953   \n",
       "920     917   -78.53956604003906   -74.19718933105469  -54.04159545898438   \n",
       "921     918  -103.23582458496094    -98.7442855834961  -40.10954284667969   \n",
       "922     919   -36.28886795043945  -10.762069702148438  -30.35626220703125   \n",
       "\n",
       "                     2.1                    3                  3.1  \\\n",
       "0                      1                    1                    1   \n",
       "1                     rh                   lh                   rh   \n",
       "2                    NaN                  NaN                  NaN   \n",
       "3      38.65968322753906   26.203819274902344   -49.71556854248047   \n",
       "4    -13.974522590637207   -28.27496337890625   -39.05012893676758   \n",
       "..                   ...                  ...                  ...   \n",
       "918   1.4422610998153689    -19.6804313659668  -29.109355926513672   \n",
       "919  -30.252351760864254   5.5627851486206055   20.182186126708984   \n",
       "920   -39.97029113769531  -14.277058601379395  -30.606460571289066   \n",
       "921   -44.90773391723633   12.109148025512695   1.6213401556015017   \n",
       "922   -23.31950378417969   14.252187728881836   -27.55986022949219   \n",
       "\n",
       "                       4                  4.1                     5  ...  \\\n",
       "0                      1                    1                     1  ...   \n",
       "1                     lh                   rh                    lh  ...   \n",
       "2                    NaN                  NaN                   NaN  ...   \n",
       "3       47.4610366821289   26.746612548828125   -35.898860931396484  ...   \n",
       "4    -1.2106596231460571  -19.012897491455078    19.568010330200195  ...   \n",
       "..                   ...                  ...                   ...  ...   \n",
       "918  -3.3765623569488525      -8.764892578125  0.017911728471517563  ...   \n",
       "919    17.91124725341797    24.65358161926269    -32.93561172485352  ...   \n",
       "920    60.62852096557617    62.02702331542969    -32.80055618286133  ...   \n",
       "921   33.765560150146484    55.35607147216797   -14.330512046813965  ...   \n",
       "922   17.279512405395508  -19.060152053833008     26.55877685546875  ...   \n",
       "\n",
       "                   16.5                16.6                 16.7  \\\n",
       "0                     3                   4                    4   \n",
       "1                    rh                  lh                   rh   \n",
       "2                   NaN                 NaN                  NaN   \n",
       "3    0.6079040169715881  -70.27054595947266    77.36577606201172   \n",
       "4     57.49507141113281  -76.39321899414062   127.26136016845705   \n",
       "..                  ...                 ...                  ...   \n",
       "918   58.28579330444336   68.55741119384766    22.83304786682129   \n",
       "919   59.86481857299805   23.00457763671875   7.6574625968933105   \n",
       "920   68.76786804199219   49.66401672363281    64.55149841308594   \n",
       "921   103.1552505493164  106.45484924316406     9.04682731628418   \n",
       "922   102.0863037109375   80.05113983154297  -2.6426103115081787   \n",
       "\n",
       "                      17                17.1                 17.2  \\\n",
       "0                      1                   1                    2   \n",
       "1                     lh                  rh                   lh   \n",
       "2                    NaN                 NaN                  NaN   \n",
       "3     -21.73455047607422  1.0282527208328247   7.7917842864990225   \n",
       "4    -13.035799026489258    46.3818244934082  -15.752449989318848   \n",
       "..                   ...                 ...                  ...   \n",
       "918    76.17948913574219    51.9346694946289   -6.614512920379639   \n",
       "919    50.96239852905274  13.696922302246096    63.50361633300781   \n",
       "920    43.80074691772461   8.144479751586914    47.28145980834961   \n",
       "921    46.67441940307617   40.95479583740234   0.8771800398826599   \n",
       "922  -12.229619979858398  -6.596726417541504   17.665163040161133   \n",
       "\n",
       "                   17.3                 17.4                17.5  \\\n",
       "0                     2                    3                   3   \n",
       "1                    rh                   lh                  rh   \n",
       "2                   NaN                  NaN                 NaN   \n",
       "3     68.90372467041016  -10.520872116088867  120.49046325683594   \n",
       "4     31.00033187866211  -39.607521057128906   24.76401138305664   \n",
       "..                  ...                  ...                 ...   \n",
       "918  -6.690762042999268   22.893030166625977   48.27437973022461   \n",
       "919   57.40117645263672    24.97454833984375   51.97215270996094   \n",
       "920   70.49964904785156    66.99440002441406   81.53924560546875   \n",
       "921   37.57715225219727   20.517745971679688   3.124434232711792   \n",
       "922  16.153173446655273    8.300398826599121  33.687530517578125   \n",
       "\n",
       "                    17.6  \n",
       "0                      4  \n",
       "1                     lh  \n",
       "2                    NaN  \n",
       "3    -39.686431884765625  \n",
       "4      -36.7710075378418  \n",
       "..                   ...  \n",
       "918    76.22845458984375  \n",
       "919    64.53878784179689  \n",
       "920    64.96977233886719  \n",
       "921    56.71838760375977  \n",
       "922   17.960655212402344  \n",
       "\n",
       "[923 rows x 63 columns]"
      ]
     },
     "execution_count": 141,
     "metadata": {},
     "output_type": "execute_result"
    }
   ],
   "source": [
    "pd.read_csv('https://raw.githubusercontent.com/YBIFoundation/Dataset/main/Brain%20Networks.csv')"
   ]
  }
 ],
 "metadata": {
  "kernelspec": {
   "display_name": "Python 3 (ipykernel)",
   "language": "python",
   "name": "python3"
  },
  "language_info": {
   "codemirror_mode": {
    "name": "ipython",
    "version": 3
   },
   "file_extension": ".py",
   "mimetype": "text/x-python",
   "name": "python",
   "nbconvert_exporter": "python",
   "pygments_lexer": "ipython3",
   "version": "3.11.5"
  }
 },
 "nbformat": 4,
 "nbformat_minor": 5
}
